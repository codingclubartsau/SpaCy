{
 "cells": [
  {
   "cell_type": "markdown",
   "id": "defe309c",
   "metadata": {},
   "source": [
    "# Analyse med SpaCy"
   ]
  },
  {
   "cell_type": "code",
   "execution_count": 18,
   "id": "dd469a51",
   "metadata": {},
   "outputs": [],
   "source": [
    "import spacy\n",
    "nlp = spacy.load(\"en_core_web_lg\")"
   ]
  },
  {
   "cell_type": "code",
   "execution_count": 19,
   "id": "417328c9",
   "metadata": {},
   "outputs": [],
   "source": [
    "df_data = open(\"alice_in_wonderland.txt\", encoding = 'utf8')\n",
    "tekst = df_data.read()"
   ]
  },
  {
   "cell_type": "code",
   "execution_count": 20,
   "id": "e34def00",
   "metadata": {},
   "outputs": [],
   "source": [
    "chapters = tekst.split(\"CHAPTER\")[1:]"
   ]
  },
  {
   "cell_type": "code",
   "execution_count": 21,
   "id": "77bf9736",
   "metadata": {},
   "outputs": [
    {
     "data": {
      "text/plain": [
       "12"
      ]
     },
     "execution_count": 21,
     "metadata": {},
     "output_type": "execute_result"
    }
   ],
   "source": [
    "len(chapters)"
   ]
  },
  {
   "cell_type": "code",
   "execution_count": 22,
   "id": "598cd48a",
   "metadata": {},
   "outputs": [
    {
     "name": "stdout",
     "output_type": "stream",
     "text": [
      " I.\n",
      "Down the Rabbit-Hole\n",
      "\n",
      "\n",
      "Alice was beginning to get very tired of sitting by her sister on the\n",
      "bank, and of having nothing to do: once or twice she had peeped into\n",
      "the book her sister was reading, but it had no pictures or\n",
      "conversations in it, “and what is the use of a book,” thought Alice\n",
      "“without pictures or conversations?”\n",
      "\n",
      "So she was considering in her own mind (as well as she could, for the\n",
      "hot day made her feel very sleepy and stupid), whether the pleasure of\n",
      "making a daisy-chain would be worth the trouble of getting up and\n",
      "picking the daisies, when suddenly a White Rabbit with pink eyes ran\n",
      "close by her.\n",
      "\n",
      "There was nothing so _very_ remarkable in that; nor did Alice think it\n",
      "so _very_ much out of the way to hear the Rabbit say to itself, “Oh\n",
      "dear! Oh dear! I shall be late!” (when she thought it over afterwards,\n",
      "it occurred to her that she ought to have wondered at this, but at the\n",
      "time it all seemed quite natural); but when the Rabbit actually _took a\n",
      "watch out of its waistcoat-pocket_, and looked at it, and then hurried\n",
      "on, Alice started to her feet, for it flashed across her mind that she\n",
      "had never before seen a rabbit with either a waistcoat-pocket, or a\n",
      "watch to take out of it, and burning with curiosity, she ran across the\n",
      "field after it, and fortunately was just in time to see it pop down a\n",
      "large rabbit-hole under the hedge.\n",
      "\n",
      "In another moment down went Alice after it, never once considering how\n",
      "in the world she was to get out again.\n",
      "\n",
      "The rabbit-hole went straight on like a tunnel for some way, and then\n",
      "dipped suddenly down, so suddenly that Alice had not a moment to think\n",
      "about stopping herself before she found herself falling down a very\n",
      "deep well.\n",
      "\n",
      "Either the well was very deep, or she fell very slowly, for she had\n",
      "plenty of time as she went down to look about her and to wonder what\n",
      "was going to happen next. First, she tried to look down and make out\n",
      "what she was coming to, but it was too dark to see anything; then she\n",
      "looked at the sides of the well, and noticed that they were filled with\n",
      "cupboards and book-shelves; here and there she saw maps and pictures\n",
      "hung upon pegs. She took down a jar from one of the shelves as she\n",
      "passed; it was labelled “ORANGE MARMALADE”, but to her great\n",
      "disappointment it was empty: she did not like to drop the jar for fear\n",
      "of killing somebody underneath, so managed to put it into one of the\n",
      "cupboards as she fell past it.\n",
      "\n",
      "“Well!” thought Alice to herself, “after such a fall as this, I shall\n",
      "think nothing of tumbling down stairs! How brave they’ll all think me\n",
      "at home! Why, I wouldn’t say anything about it, even if I fell off the\n",
      "top of the house!” (Which was very likely true.)\n",
      "\n",
      "Down, down, down. Would the fall _never_ come to an end? “I wonder how\n",
      "many miles I’ve fallen by this time?” she said aloud. “I must be\n",
      "getting somewhere near the centre of the earth. Let me see: that would\n",
      "be four thousand miles down, I think—” (for, you see, Alice had learnt\n",
      "several things of this sort in her lessons in the schoolroom, and\n",
      "though this was not a _very_ good opportunity for showing off her\n",
      "knowledge, as there was no one to listen to her, still it was good\n",
      "practice to say it over) “—yes, that’s about the right distance—but\n",
      "then I wonder what Latitude or Longitude I’ve got to?” (Alice had no\n",
      "idea what Latitude was, or Longitude either, but thought they were nice\n",
      "grand words to say.)\n",
      "\n",
      "Presently she began again. “I wonder if I shall fall right _through_\n",
      "the earth! How funny it’ll seem to come out among the people that walk\n",
      "with their heads downward! The Antipathies, I think—” (she was rather\n",
      "glad there _was_ no one listening, this time, as it didn’t sound at all\n",
      "the right word) “—but I shall have to ask them what the name of the\n",
      "country is, you know. Please, Ma’am, is this New Zealand or Australia?”\n",
      "(and she tried to curtsey as she spoke—fancy _curtseying_ as you’re\n",
      "falling through the air! Do you think you could manage it?) “And what\n",
      "an ignorant little girl she’ll think me for asking! No, it’ll never do\n",
      "to ask: perhaps I shall see it written up somewhere.”\n",
      "\n",
      "Down, down, down. There was nothing else to do, so Alice soon began\n",
      "talking again. “Dinah’ll miss me very much to-night, I should think!”\n",
      "(Dinah was the cat.) “I hope they’ll remember her saucer of milk at\n",
      "tea-time. Dinah my dear! I wish you were down here with me! There are\n",
      "no mice in the air, I’m afraid, but you might catch a bat, and that’s\n",
      "very like a mouse, you know. But do cats eat bats, I wonder?” And here\n",
      "Alice began to get rather sleepy, and went on saying to herself, in a\n",
      "dreamy sort of way, “Do cats eat bats? Do cats eat bats?” and\n",
      "sometimes, “Do bats eat cats?” for, you see, as she couldn’t answer\n",
      "either question, it didn’t much matter which way she put it. She felt\n",
      "that she was dozing off, and had just begun to dream that she was\n",
      "walking hand in hand with Dinah, and saying to her very earnestly,\n",
      "“Now, Dinah, tell me the truth: did you ever eat a bat?” when suddenly,\n",
      "thump! thump! down she came upon a heap of sticks and dry leaves, and\n",
      "the fall was over.\n",
      "\n",
      "Alice was not a bit hurt, and she jumped up on to her feet in a moment:\n",
      "she looked up, but it was all dark overhead; before her was another\n",
      "long passage, and the White Rabbit was still in sight, hurrying down\n",
      "it. There was not a moment to be lost: away went Alice like the wind,\n",
      "and was just in time to hear it say, as it turned a corner, “Oh my ears\n",
      "and whiskers, how late it’s getting!” She was close behind it when she\n",
      "turned the corner, but the Rabbit was no longer to be seen: she found\n",
      "herself in a long, low hall, which was lit up by a row of lamps hanging\n",
      "from the roof.\n",
      "\n",
      "There were doors all round the hall, but they were all locked; and when\n",
      "Alice had been all the way down one side and up the other, trying every\n",
      "door, she walked sadly down the middle, wondering how she was ever to\n",
      "get out again.\n",
      "\n",
      "Suddenly she came upon a little three-legged table, all made of solid\n",
      "glass; there was nothing on it except a tiny golden key, and Alice’s\n",
      "first thought was that it might belong to one of the doors of the hall;\n",
      "but, alas! either the locks were too large, or the key was too small,\n",
      "but at any rate it would not open any of them. However, on the second\n",
      "time round, she came upon a low curtain she had not noticed before, and\n",
      "behind it was a little door about fifteen inches high: she tried the\n",
      "little golden key in the lock, and to her great delight it fitted!\n",
      "\n",
      "Alice opened the door and found that it led into a small passage, not\n",
      "much larger than a rat-hole: she knelt down and looked along the\n",
      "passage into the loveliest garden you ever saw. How she longed to get\n",
      "out of that dark hall, and wander about among those beds of bright\n",
      "flowers and those cool fountains, but she could not even get her head\n",
      "through the doorway; “and even if my head would go through,” thought\n",
      "poor Alice, “it would be of very little use without my shoulders. Oh,\n",
      "how I wish I could shut up like a telescope! I think I could, if I only\n",
      "knew how to begin.” For, you see, so many out-of-the-way things had\n",
      "happened lately, that Alice had begun to think that very few things\n",
      "indeed were really impossible.\n",
      "\n",
      "There seemed to be no use in waiting by the little door, so she went\n",
      "back to the table, half hoping she might find another key on it, or at\n",
      "any rate a book of rules for shutting people up like telescopes: this\n",
      "time she found a little bottle on it, (“which certainly was not here\n",
      "before,” said Alice,) and round the neck of the bottle was a paper\n",
      "label, with the words “DRINK ME,” beautifully printed on it in large\n",
      "letters.\n",
      "\n",
      "It was all very well to say “Drink me,” but the wise little Alice was\n",
      "not going to do _that_ in a hurry. “No, I’ll look first,” she said,\n",
      "“and see whether it’s marked ‘_poison_’ or not”; for she had read\n",
      "several nice little histories about children who had got burnt, and\n",
      "eaten up by wild beasts and other unpleasant things, all because they\n",
      "_would_ not remember the simple rules their friends had taught them:\n",
      "such as, that a red-hot poker will burn you if you hold it too long;\n",
      "and that if you cut your finger _very_ deeply with a knife, it usually\n",
      "bleeds; and she had never forgotten that, if you drink much from a\n",
      "bottle marked “poison,” it is almost certain to disagree with you,\n",
      "sooner or later.\n",
      "\n",
      "However, this bottle was _not_ marked “poison,” so Alice ventured to\n",
      "taste it, and finding it very nice, (it had, in fact, a sort of mixed\n",
      "flavour of cherry-tart, custard, pine-apple, roast turkey, toffee, and\n",
      "hot buttered toast,) she very soon finished it off.\n",
      "\n",
      "*      *      *      *      *      *      *\n",
      "\n",
      "    *      *      *      *      *      *\n",
      "\n",
      "*      *      *      *      *      *      *\n",
      "\n",
      "\n",
      "“What a curious feeling!” said Alice; “I must be shutting up like a\n",
      "telescope.”\n",
      "\n",
      "And so it was indeed: she was now only ten inches high, and her face\n",
      "brightened up at the thought that she was now the right size for going\n",
      "through the little door into that lovely garden. First, however, she\n",
      "waited for a few minutes to see if she was going to shrink any further:\n",
      "she felt a little nervous about this; “for it might end, you know,”\n",
      "said Alice to herself, “in my going out altogether, like a candle. I\n",
      "wonder what I should be like then?” And she tried to fancy what the\n",
      "flame of a candle is like after the candle is blown out, for she could\n",
      "not remember ever having seen such a thing.\n",
      "\n",
      "After a while, finding that nothing more happened, she decided on going\n",
      "into the garden at once; but, alas for poor Alice! when she got to the\n",
      "door, she found she had forgotten the little golden key, and when she\n",
      "went back to the table for it, she found she could not possibly reach\n",
      "it: she could see it quite plainly through the glass, and she tried her\n",
      "best to climb up one of the legs of the table, but it was too slippery;\n",
      "and when she had tired herself out with trying, the poor little thing\n",
      "sat down and cried.\n",
      "\n",
      "“Come, there’s no use in crying like that!” said Alice to herself,\n",
      "rather sharply; “I advise you to leave off this minute!” She generally\n",
      "gave herself very good advice, (though she very seldom followed it),\n",
      "and sometimes she scolded herself so severely as to bring tears into\n",
      "her eyes; and once she remembered trying to box her own ears for having\n",
      "cheated herself in a game of croquet she was playing against herself,\n",
      "for this curious child was very fond of pretending to be two people.\n",
      "“But it’s no use now,” thought poor Alice, “to pretend to be two\n",
      "people! Why, there’s hardly enough of me left to make _one_ respectable\n",
      "person!”\n",
      "\n",
      "Soon her eye fell on a little glass box that was lying under the table:\n",
      "she opened it, and found in it a very small cake, on which the words\n",
      "“EAT ME” were beautifully marked in currants. “Well, I’ll eat it,” said\n",
      "Alice, “and if it makes me grow larger, I can reach the key; and if it\n",
      "makes me grow smaller, I can creep under the door; so either way I’ll\n",
      "get into the garden, and I don’t care which happens!”\n",
      "\n",
      "She ate a little bit, and said anxiously to herself, “Which way? Which\n",
      "way?”, holding her hand on the top of her head to feel which way it was\n",
      "growing, and she was quite surprised to find that she remained the same\n",
      "size: to be sure, this generally happens when one eats cake, but Alice\n",
      "had got so much into the way of expecting nothing but out-of-the-way\n",
      "things to happen, that it seemed quite dull and stupid for life to go\n",
      "on in the common way.\n",
      "\n",
      "So she set to work, and very soon finished off the cake.\n",
      "\n",
      "*      *      *      *      *      *      *\n",
      "\n",
      "    *      *      *      *      *      *\n",
      "\n",
      "*      *      *      *      *      *      *\n",
      "\n",
      "\n",
      "\n",
      "\n",
      "\n"
     ]
    }
   ],
   "source": [
    "kapitel1 = chapters[0]\n",
    "print(kapitel1)"
   ]
  },
  {
   "cell_type": "code",
   "execution_count": 23,
   "id": "3713d217",
   "metadata": {},
   "outputs": [],
   "source": [
    "doc = nlp(kapitel1)"
   ]
  },
  {
   "cell_type": "markdown",
   "id": "ee2b897f",
   "metadata": {},
   "source": [
    "Vi kan bruge Spacy til at dele op i sætninger"
   ]
  },
  {
   "cell_type": "code",
   "execution_count": 24,
   "id": "453b079a",
   "metadata": {},
   "outputs": [],
   "source": [
    "sentences = list(doc.sents)"
   ]
  },
  {
   "cell_type": "code",
   "execution_count": 28,
   "id": "b109e03e",
   "metadata": {},
   "outputs": [
    {
     "data": {
      "text/plain": [
       "(when she thought it over afterwards,\n",
       "it occurred to her that she ought to have wondered at this, but at the\n",
       "time it all seemed quite natural); but when the Rabbit actually _took a\n",
       "watch out of its waistcoat-pocket_, and looked at it, and then hurried\n",
       "on, Alice started to her feet, for it flashed across her mind that she\n",
       "had never before seen a rabbit with either a waistcoat-pocket, or a\n",
       "watch to take out of it, and burning with curiosity, she ran across the\n",
       "field after it, and fortunately was just in time to see it pop down a\n",
       "large rabbit-hole under the hedge."
      ]
     },
     "execution_count": 28,
     "metadata": {},
     "output_type": "execute_result"
    }
   ],
   "source": [
    "sentence = sentences[6]\n",
    "sentence"
   ]
  },
  {
   "cell_type": "markdown",
   "id": "d69235dd",
   "metadata": {},
   "source": [
    "Udover \".sents\" kan vi for hvort token (ord) i teksten bl.a. bruge følgende kommandoer\n",
    "* token.text\n",
    "* token.pos_\n",
    "* token.lemma_\n",
    "\n",
    "Prøv at bytte dem i for-loopet nedenfor og se hvad der sker"
   ]
  },
  {
   "cell_type": "code",
   "execution_count": 33,
   "id": "78a9dfce",
   "metadata": {},
   "outputs": [
    {
     "name": "stdout",
     "output_type": "stream",
     "text": [
      "( PUNCT\n",
      "when SCONJ\n",
      "she PRON\n",
      "thought VERB\n",
      "it PRON\n",
      "over ADV\n",
      "afterwards ADV\n",
      ", PUNCT\n",
      "\n",
      " SPACE\n",
      "it PRON\n",
      "occurred VERB\n",
      "to ADP\n",
      "her PRON\n",
      "that SCONJ\n",
      "she PRON\n",
      "ought AUX\n",
      "to PART\n",
      "have AUX\n",
      "wondered VERB\n",
      "at ADP\n",
      "this PRON\n",
      ", PUNCT\n",
      "but CCONJ\n",
      "at ADP\n",
      "the DET\n",
      "\n",
      " SPACE\n",
      "time NOUN\n",
      "it PRON\n",
      "all PRON\n",
      "seemed VERB\n",
      "quite ADV\n",
      "natural ADJ\n",
      ") PUNCT\n",
      "; PUNCT\n",
      "but CCONJ\n",
      "when SCONJ\n",
      "the DET\n",
      "Rabbit PROPN\n",
      "actually ADV\n",
      "_ PRON\n",
      "took VERB\n",
      "a DET\n",
      "\n",
      " SPACE\n",
      "watch NOUN\n",
      "out ADP\n",
      "of ADP\n",
      "its PRON\n",
      "waistcoat NOUN\n",
      "- PUNCT\n",
      "pocket NOUN\n",
      "_ NOUN\n",
      ", PUNCT\n",
      "and CCONJ\n",
      "looked VERB\n",
      "at ADP\n",
      "it PRON\n",
      ", PUNCT\n",
      "and CCONJ\n",
      "then ADV\n",
      "hurried VERB\n",
      "\n",
      " SPACE\n",
      "on ADV\n",
      ", PUNCT\n",
      "Alice PROPN\n",
      "started VERB\n",
      "to ADP\n",
      "her PRON\n",
      "feet NOUN\n",
      ", PUNCT\n",
      "for SCONJ\n",
      "it PRON\n",
      "flashed VERB\n",
      "across ADP\n",
      "her PRON\n",
      "mind NOUN\n",
      "that SCONJ\n",
      "she PRON\n",
      "\n",
      " SPACE\n",
      "had AUX\n",
      "never ADV\n",
      "before ADV\n",
      "seen VERB\n",
      "a DET\n",
      "rabbit NOUN\n",
      "with ADP\n",
      "either CCONJ\n",
      "a DET\n",
      "waistcoat NOUN\n",
      "- PUNCT\n",
      "pocket NOUN\n",
      ", PUNCT\n",
      "or CCONJ\n",
      "a DET\n",
      "\n",
      " SPACE\n",
      "watch NOUN\n",
      "to PART\n",
      "take VERB\n",
      "out ADP\n",
      "of ADP\n",
      "it PRON\n",
      ", PUNCT\n",
      "and CCONJ\n",
      "burning VERB\n",
      "with ADP\n",
      "curiosity NOUN\n",
      ", PUNCT\n",
      "she PRON\n",
      "ran VERB\n",
      "across ADP\n",
      "the DET\n",
      "\n",
      " SPACE\n",
      "field NOUN\n",
      "after ADP\n",
      "it PRON\n",
      ", PUNCT\n",
      "and CCONJ\n",
      "fortunately ADV\n",
      "was AUX\n",
      "just ADV\n",
      "in ADP\n",
      "time NOUN\n",
      "to PART\n",
      "see VERB\n",
      "it PRON\n",
      "pop VERB\n",
      "down ADP\n",
      "a DET\n",
      "\n",
      " SPACE\n",
      "large ADJ\n",
      "rabbit NOUN\n",
      "- PUNCT\n",
      "hole NOUN\n",
      "under ADP\n",
      "the DET\n",
      "hedge NOUN\n",
      ". PUNCT\n"
     ]
    }
   ],
   "source": [
    "for token in sentence:\n",
    "    print(token.text, token.pos_)"
   ]
  },
  {
   "cell_type": "markdown",
   "id": "e1e76441",
   "metadata": {},
   "source": [
    "Vi kan sortere vores tekst ud fra den metainformation der er gemt, vi kan eksempelvis samle ordklasser i lister mm."
   ]
  },
  {
   "cell_type": "code",
   "execution_count": 34,
   "id": "aa44cabe",
   "metadata": {},
   "outputs": [
    {
     "name": "stdout",
     "output_type": "stream",
     "text": [
      "[time, watch, waistcoat, pocket, _, feet, mind, rabbit, waistcoat, pocket, watch, curiosity, field, time, rabbit, hole, hedge]\n"
     ]
    }
   ],
   "source": [
    "nouns = []\n",
    "for token in sentence:\n",
    "    if token.pos_ == \"NOUN\":\n",
    "        nouns.append(token)\n",
    "\n",
    "print(nouns)"
   ]
  },
  {
   "cell_type": "markdown",
   "id": "86130656",
   "metadata": {},
   "source": [
    "Spacy kan også bruges til at finde personer, steder mm. i data. Dette gøres ved \".ents\""
   ]
  },
  {
   "cell_type": "code",
   "execution_count": 35,
   "id": "633a9efa",
   "metadata": {},
   "outputs": [
    {
     "data": {
      "text/plain": [
       "[Alice]"
      ]
     },
     "execution_count": 35,
     "metadata": {},
     "output_type": "execute_result"
    }
   ],
   "source": [
    "ents = list(sentence.ents)\n",
    "ents"
   ]
  },
  {
   "cell_type": "code",
   "execution_count": 36,
   "id": "64b3075d",
   "metadata": {},
   "outputs": [
    {
     "data": {
      "text/plain": [
       "[the Rabbit-Hole\n",
       " \n",
       " \n",
       " Alice,\n",
       " Alice,\n",
       " a White Rabbit,\n",
       " Alice,\n",
       " Alice,\n",
       " Alice,\n",
       " Alice,\n",
       " First,\n",
       " ORANGE MARMALADE,\n",
       " Alice,\n",
       " earth,\n",
       " four thousand miles,\n",
       " Alice,\n",
       " Alice,\n",
       " Longitude,\n",
       " earth,\n",
       " Ma’am,\n",
       " New Zealand,\n",
       " Australia,\n",
       " Alice,\n",
       " Dinah,\n",
       " Alice,\n",
       " Dinah,\n",
       " Dinah,\n",
       " Alice,\n",
       " the White Rabbit,\n",
       " Alice,\n",
       " Alice,\n",
       " three,\n",
       " Alice’s,\n",
       " first,\n",
       " second,\n",
       " about fifteen inches,\n",
       " Alice,\n",
       " Alice,\n",
       " half,\n",
       " Alice,\n",
       " DRINK ME,\n",
       " Alice,\n",
       " first,\n",
       " Alice,\n",
       " Alice,\n",
       " ten inches,\n",
       " First,\n",
       " a few minutes,\n",
       " Alice,\n",
       " Alice,\n",
       " Alice,\n",
       " this minute,\n",
       " two,\n",
       " Alice,\n",
       " two,\n",
       " Alice,\n",
       " Alice]"
      ]
     },
     "execution_count": 36,
     "metadata": {},
     "output_type": "execute_result"
    }
   ],
   "source": [
    "ents = list(doc.ents)\n",
    "ents"
   ]
  },
  {
   "cell_type": "markdown",
   "id": "185a3a05",
   "metadata": {},
   "source": [
    "Vi kan hente det metadata der er gemt for hvert ord, ved at bruge følgende:"
   ]
  },
  {
   "cell_type": "code",
   "execution_count": 37,
   "id": "498cebf1",
   "metadata": {},
   "outputs": [
    {
     "name": "stdout",
     "output_type": "stream",
     "text": [
      "the Rabbit-Hole\n",
      "\n",
      "\n",
      "Alice : ORG\n",
      "Alice : PERSON\n",
      "a White Rabbit : ORG\n",
      "Alice : PERSON\n",
      "Alice : PERSON\n",
      "Alice : PERSON\n",
      "Alice : PERSON\n",
      "First : ORDINAL\n",
      "ORANGE MARMALADE : WORK_OF_ART\n",
      "Alice : PERSON\n",
      "earth : LOC\n",
      "four thousand miles : QUANTITY\n",
      "Alice : PERSON\n",
      "Alice : PERSON\n",
      "Longitude : LOC\n",
      "earth : LOC\n",
      "Ma’am : WORK_OF_ART\n",
      "New Zealand : GPE\n",
      "Australia : GPE\n",
      "Alice : PERSON\n",
      "Dinah : PERSON\n",
      "Alice : PERSON\n",
      "Dinah : PERSON\n",
      "Dinah : PERSON\n",
      "Alice : PERSON\n",
      "the White Rabbit : ORG\n",
      "Alice : PERSON\n",
      "Alice : PERSON\n",
      "three : CARDINAL\n",
      "Alice’s : ORG\n",
      "first : ORDINAL\n",
      "second : ORDINAL\n",
      "about fifteen inches : QUANTITY\n",
      "Alice : ORG\n",
      "Alice : PERSON\n",
      "half : CARDINAL\n",
      "Alice : PERSON\n",
      "DRINK ME : WORK_OF_ART\n",
      "Alice : PERSON\n",
      "first : ORDINAL\n",
      "Alice : PERSON\n",
      "Alice : PERSON\n",
      "ten inches : QUANTITY\n",
      "First : ORDINAL\n",
      "a few minutes : TIME\n",
      "Alice : PERSON\n",
      "Alice : PERSON\n",
      "Alice : PERSON\n",
      "this minute : TIME\n",
      "two : CARDINAL\n",
      "Alice : PERSON\n",
      "two : CARDINAL\n",
      "Alice : PERSON\n",
      "Alice\n",
      " : PERSON\n"
     ]
    }
   ],
   "source": [
    "for word in doc.ents:\n",
    "    print(word.text, \":\", word.label_)"
   ]
  },
  {
   "cell_type": "markdown",
   "id": "c5dbb977",
   "metadata": {},
   "source": [
    "Vi kan få forklaret hvad der ligger bag eksempelvis mærkatet \"LOC\" ved at skrive"
   ]
  },
  {
   "cell_type": "code",
   "execution_count": 39,
   "id": "c1364373",
   "metadata": {},
   "outputs": [
    {
     "data": {
      "text/plain": [
       "'Non-GPE locations, mountain ranges, bodies of water'"
      ]
     },
     "execution_count": 39,
     "metadata": {},
     "output_type": "execute_result"
    }
   ],
   "source": [
    "spacy.explain(\"LOC\")"
   ]
  },
  {
   "cell_type": "code",
   "execution_count": 40,
   "id": "f4628e8d",
   "metadata": {},
   "outputs": [
    {
     "data": {
      "text/plain": [
       "['Alice',\n",
       " 'Alice',\n",
       " 'Alice',\n",
       " 'Alice',\n",
       " 'Alice',\n",
       " 'Alice',\n",
       " 'Alice',\n",
       " 'Alice',\n",
       " 'Alice',\n",
       " 'Dinah',\n",
       " 'Alice',\n",
       " 'Dinah',\n",
       " 'Dinah',\n",
       " 'Alice',\n",
       " 'Alice',\n",
       " 'Alice',\n",
       " 'Alice',\n",
       " 'Alice',\n",
       " 'Alice',\n",
       " 'Alice',\n",
       " 'Alice',\n",
       " 'Alice',\n",
       " 'Alice',\n",
       " 'Alice',\n",
       " 'Alice',\n",
       " 'Alice',\n",
       " 'Alice\\n']"
      ]
     },
     "execution_count": 40,
     "metadata": {},
     "output_type": "execute_result"
    }
   ],
   "source": [
    "persons = []\n",
    "for word in doc.ents:\n",
    "    if word.label_ == \"PERSON\":\n",
    "        persons.append(word.text)\n",
    "        \n",
    "persons"
   ]
  },
  {
   "cell_type": "markdown",
   "id": "0f67e566",
   "metadata": {},
   "source": [
    "Jeg har uploadet meget forskelligt data, som man kan vælge at arbejde med. Nedenfor er det alle akter af Den Stundesløse af Ludvig Holberg der bliver hentet. I kan bare ændre filnavnet og hente jeres egne filer."
   ]
  },
  {
   "cell_type": "code",
   "execution_count": 23,
   "id": "3378709d",
   "metadata": {},
   "outputs": [],
   "source": [
    "df_1 = open(\"DenStundesløseFørsteAkt.txt\", encoding = 'utf8')\n",
    "første_akt = df_1.read()\n",
    "df_2 = open(\"DenStundesløseAndenAkt.txt\", encoding = 'utf8')\n",
    "første_akt = df_2.read()\n",
    "df_3 = open(\"DenStundesløseTredjeAkt.txt\", encoding = 'utf8')\n",
    "første_akt = df_3.read()"
   ]
  },
  {
   "cell_type": "code",
   "execution_count": null,
   "id": "0ef70fbd",
   "metadata": {},
   "outputs": [],
   "source": []
  }
 ],
 "metadata": {
  "kernelspec": {
   "display_name": "Python 3 (ipykernel)",
   "language": "python",
   "name": "python3"
  },
  "language_info": {
   "codemirror_mode": {
    "name": "ipython",
    "version": 3
   },
   "file_extension": ".py",
   "mimetype": "text/x-python",
   "name": "python",
   "nbconvert_exporter": "python",
   "pygments_lexer": "ipython3",
   "version": "3.9.10"
  }
 },
 "nbformat": 4,
 "nbformat_minor": 5
}
